{
 "cells": [
  {
   "cell_type": "code",
   "execution_count": 1,
   "metadata": {},
   "outputs": [],
   "source": [
    "# download shakespeare dataset\n",
    "#!wget https://raw.githubusercontent.com/karpathy/char-rnn/master/data/tinyshakespeare/input.txt"
   ]
  },
  {
   "cell_type": "code",
   "execution_count": 2,
   "metadata": {},
   "outputs": [],
   "source": [
    "with open('input.txt', 'r', encoding='utf-8') as f:\n",
    "    text = f.read()"
   ]
  },
  {
   "cell_type": "code",
   "execution_count": 3,
   "metadata": {},
   "outputs": [
    {
     "name": "stdout",
     "output_type": "stream",
     "text": [
      "text length 1115394\n"
     ]
    }
   ],
   "source": [
    "print(\"text length\", len(text))"
   ]
  },
  {
   "cell_type": "code",
   "execution_count": 4,
   "metadata": {
    "scrolled": true
   },
   "outputs": [
    {
     "name": "stdout",
     "output_type": "stream",
     "text": [
      "First Citizen:\n",
      "Before we proceed any further, hear me speak.\n",
      "\n",
      "All:\n",
      "Speak, speak.\n",
      "\n",
      "First Citizen:\n",
      "You are all resolved rather to die than to famish?\n",
      "\n",
      "All:\n",
      "Resolved. resolved.\n",
      "\n",
      "First Citizen:\n",
      "First, you know Caius Marcius is chief enemy to the people.\n",
      "\n",
      "All:\n",
      "We know't, we know't.\n",
      "\n",
      "First Citizen:\n",
      "Let us kill him, and we'll have corn at our own price.\n",
      "Is't a verdict?\n",
      "\n",
      "All:\n",
      "No more talking on't; let it be done: away, away!\n",
      "\n",
      "Second Citizen:\n",
      "One word, good citizens.\n",
      "\n",
      "First Citizen:\n",
      "We are accounted poor citizens, the patricians good.\n",
      "What authority surfeits on would relieve us: if they\n",
      "would yield us but the superfluity, while it were\n",
      "wholesome, we might guess they relieved us humanely;\n",
      "but they think we are too dear: the leanness that\n",
      "afflicts us, the object of our misery, is as an\n",
      "inventory to particularise their abundance; our\n",
      "sufferance is a gain to them Let us revenge this with\n",
      "our pikes, ere we become rakes: for the gods know I\n",
      "speak this in hunger for bread, not in thirst for revenge.\n",
      "\n",
      "\n"
     ]
    }
   ],
   "source": [
    "print(text[:1000])"
   ]
  },
  {
   "cell_type": "code",
   "execution_count": 5,
   "metadata": {},
   "outputs": [
    {
     "name": "stdout",
     "output_type": "stream",
     "text": [
      "\n",
      " !$&',-.3:;?ABCDEFGHIJKLMNOPQRSTUVWXYZabcdefghijklmnopqrstuvwxyz\n",
      "65\n"
     ]
    }
   ],
   "source": [
    "chars = sorted(list(set(text)))\n",
    "vocab_size = len(chars)\n",
    "print(''.join(chars))\n",
    "print(vocab_size)"
   ]
  },
  {
   "cell_type": "code",
   "execution_count": 6,
   "metadata": {},
   "outputs": [],
   "source": [
    "# tokenize - convert raw text/chars to some sequence of integers accoring to some vocabulary"
   ]
  },
  {
   "cell_type": "code",
   "execution_count": 7,
   "metadata": {},
   "outputs": [
    {
     "name": "stdout",
     "output_type": "stream",
     "text": [
      "[46, 43, 63, 1, 58, 46, 43, 56, 43]\n",
      "hey there\n"
     ]
    }
   ],
   "source": [
    "# create mapping from chars to ints (and vice versa)\n",
    "stoi = { ch:i for i, ch in enumerate(chars) }\n",
    "itos = { i:ch for i, ch in enumerate(chars) }\n",
    "\n",
    "encode = lambda s: [stoi[c] for c in s]\n",
    "decode = lambda l: ''.join([itos[i] for i in l])\n",
    "\n",
    "print(encode(\"hey there\"))\n",
    "print(decode(encode(\"hey there\")))"
   ]
  },
  {
   "cell_type": "code",
   "execution_count": 8,
   "metadata": {
    "scrolled": true
   },
   "outputs": [
    {
     "name": "stdout",
     "output_type": "stream",
     "text": [
      "tensor([18, 47, 56, 57, 58,  1, 15, 47, 58, 47, 64, 43, 52, 10,  0, 14, 43, 44,\n",
      "        53, 56, 43,  1, 61, 43,  1, 54, 56, 53, 41, 43, 43, 42,  1, 39, 52, 63,\n",
      "         1, 44, 59, 56, 58, 46, 43, 56,  6,  1, 46, 43, 39, 56,  1, 51, 43,  1,\n",
      "        57, 54, 43, 39, 49,  8,  0,  0, 13, 50, 50, 10,  0, 31, 54, 43, 39, 49,\n",
      "         6,  1, 57, 54, 43, 39, 49,  8,  0,  0, 18, 47, 56, 57, 58,  1, 15, 47,\n",
      "        58, 47, 64, 43, 52, 10,  0, 37, 53, 59,  1, 39, 56, 43,  1, 39, 50, 50,\n",
      "         1, 56, 43, 57, 53, 50, 60, 43, 42,  1, 56, 39, 58, 46, 43, 56,  1, 58,\n",
      "        53,  1, 42, 47, 43,  1, 58, 46, 39, 52,  1, 58, 53,  1, 44, 39, 51, 47,\n",
      "        57, 46, 12,  0,  0, 13, 50, 50, 10,  0, 30, 43, 57, 53, 50, 60, 43, 42,\n",
      "         8,  1, 56, 43, 57, 53, 50, 60, 43, 42,  8,  0,  0, 18, 47, 56, 57, 58,\n",
      "         1, 15, 47, 58, 47, 64, 43, 52, 10,  0, 18, 47, 56, 57, 58,  6,  1, 63,\n",
      "        53, 59,  1, 49, 52, 53, 61,  1, 15, 39, 47, 59, 57,  1, 25, 39, 56, 41,\n",
      "        47, 59, 57,  1, 47, 57,  1, 41, 46, 47, 43, 44,  1, 43, 52, 43, 51, 63,\n",
      "         1, 58, 53,  1, 58, 46, 43,  1, 54, 43, 53, 54, 50, 43,  8,  0,  0, 13,\n",
      "        50, 50, 10,  0, 35, 43,  1, 49, 52, 53, 61,  5, 58,  6,  1, 61, 43,  1,\n",
      "        49, 52, 53, 61,  5, 58,  8,  0,  0, 18, 47, 56, 57, 58,  1, 15, 47, 58,\n",
      "        47, 64, 43, 52, 10,  0, 24, 43, 58,  1, 59, 57,  1, 49, 47, 50, 50,  1,\n",
      "        46, 47, 51,  6,  1, 39, 52, 42,  1, 61, 43,  5, 50, 50,  1, 46, 39, 60,\n",
      "        43,  1, 41, 53, 56, 52,  1, 39, 58,  1, 53, 59, 56,  1, 53, 61, 52,  1,\n",
      "        54, 56, 47, 41, 43,  8,  0, 21, 57,  5, 58,  1, 39,  1, 60, 43, 56, 42,\n",
      "        47, 41, 58, 12,  0,  0, 13, 50, 50, 10,  0, 26, 53,  1, 51, 53, 56, 43,\n",
      "         1, 58, 39, 50, 49, 47, 52, 45,  1, 53, 52,  5, 58, 11,  1, 50, 43, 58,\n",
      "         1, 47, 58,  1, 40, 43,  1, 42, 53, 52, 43, 10,  1, 39, 61, 39, 63,  6,\n",
      "         1, 39, 61, 39, 63,  2,  0,  0, 31, 43, 41, 53, 52, 42,  1, 15, 47, 58,\n",
      "        47, 64, 43, 52, 10,  0, 27, 52, 43,  1, 61, 53, 56, 42,  6,  1, 45, 53,\n",
      "        53, 42,  1, 41, 47, 58, 47, 64, 43, 52, 57,  8,  0,  0, 18, 47, 56, 57,\n",
      "        58,  1, 15, 47, 58, 47, 64, 43, 52, 10,  0, 35, 43,  1, 39, 56, 43,  1,\n",
      "        39, 41, 41, 53, 59, 52, 58, 43, 42,  1, 54, 53, 53, 56,  1, 41, 47, 58,\n",
      "        47, 64, 43, 52, 57,  6,  1, 58, 46, 43,  1, 54, 39, 58, 56, 47, 41, 47,\n",
      "        39, 52, 57,  1, 45, 53, 53, 42,  8,  0, 35, 46, 39, 58,  1, 39, 59, 58,\n",
      "        46, 53, 56, 47, 58, 63,  1, 57, 59, 56, 44, 43, 47, 58, 57,  1, 53, 52,\n",
      "         1, 61, 53, 59, 50, 42,  1, 56, 43, 50, 47, 43, 60, 43,  1, 59, 57, 10,\n",
      "         1, 47, 44,  1, 58, 46, 43, 63,  0, 61, 53, 59, 50, 42,  1, 63, 47, 43,\n",
      "        50, 42,  1, 59, 57,  1, 40, 59, 58,  1, 58, 46, 43,  1, 57, 59, 54, 43,\n",
      "        56, 44, 50, 59, 47, 58, 63,  6,  1, 61, 46, 47, 50, 43,  1, 47, 58,  1,\n",
      "        61, 43, 56, 43,  0, 61, 46, 53, 50, 43, 57, 53, 51, 43,  6,  1, 61, 43,\n",
      "         1, 51, 47, 45, 46, 58,  1, 45, 59, 43, 57, 57,  1, 58, 46, 43, 63,  1,\n",
      "        56, 43, 50, 47, 43, 60, 43, 42,  1, 59, 57,  1, 46, 59, 51, 39, 52, 43,\n",
      "        50, 63, 11,  0, 40, 59, 58,  1, 58, 46, 43, 63,  1, 58, 46, 47, 52, 49,\n",
      "         1, 61, 43,  1, 39, 56, 43,  1, 58, 53, 53,  1, 42, 43, 39, 56, 10,  1,\n",
      "        58, 46, 43,  1, 50, 43, 39, 52, 52, 43, 57, 57,  1, 58, 46, 39, 58,  0,\n",
      "        39, 44, 44, 50, 47, 41, 58, 57,  1, 59, 57,  6,  1, 58, 46, 43,  1, 53,\n",
      "        40, 48, 43, 41, 58,  1, 53, 44,  1, 53, 59, 56,  1, 51, 47, 57, 43, 56,\n",
      "        63,  6,  1, 47, 57,  1, 39, 57,  1, 39, 52,  0, 47, 52, 60, 43, 52, 58,\n",
      "        53, 56, 63,  1, 58, 53,  1, 54, 39, 56, 58, 47, 41, 59, 50, 39, 56, 47,\n",
      "        57, 43,  1, 58, 46, 43, 47, 56,  1, 39, 40, 59, 52, 42, 39, 52, 41, 43,\n",
      "        11,  1, 53, 59, 56,  0, 57, 59, 44, 44, 43, 56, 39, 52, 41, 43,  1, 47,\n",
      "        57,  1, 39,  1, 45, 39, 47, 52,  1, 58, 53,  1, 58, 46, 43, 51,  1, 24,\n",
      "        43, 58,  1, 59, 57,  1, 56, 43, 60, 43, 52, 45, 43,  1, 58, 46, 47, 57,\n",
      "         1, 61, 47, 58, 46,  0, 53, 59, 56,  1, 54, 47, 49, 43, 57,  6,  1, 43,\n",
      "        56, 43,  1, 61, 43,  1, 40, 43, 41, 53, 51, 43,  1, 56, 39, 49, 43, 57,\n",
      "        10,  1, 44, 53, 56,  1, 58, 46, 43,  1, 45, 53, 42, 57,  1, 49, 52, 53,\n",
      "        61,  1, 21,  0, 57, 54, 43, 39, 49,  1, 58, 46, 47, 57,  1, 47, 52,  1,\n",
      "        46, 59, 52, 45, 43, 56,  1, 44, 53, 56,  1, 40, 56, 43, 39, 42,  6,  1,\n",
      "        52, 53, 58,  1, 47, 52,  1, 58, 46, 47, 56, 57, 58,  1, 44, 53, 56,  1,\n",
      "        56, 43, 60, 43, 52, 45, 43,  8,  0,  0])\n"
     ]
    }
   ],
   "source": [
    "import torch\n",
    "data = torch.tensor(encode(text), dtype=torch.long)\n",
    "print(data[:1000])"
   ]
  },
  {
   "cell_type": "code",
   "execution_count": 9,
   "metadata": {},
   "outputs": [],
   "source": [
    "# split into train-val\n",
    "n = int(0.9 * len(data))\n",
    "train_data = data[:n]\n",
    "val_data = data[n:]"
   ]
  },
  {
   "cell_type": "code",
   "execution_count": 10,
   "metadata": {},
   "outputs": [
    {
     "data": {
      "text/plain": [
       "tensor([18, 47, 56, 57, 58,  1, 15, 47, 58])"
      ]
     },
     "execution_count": 10,
     "metadata": {},
     "output_type": "execute_result"
    }
   ],
   "source": [
    "block_size = 8\n",
    "train_data[:block_size + 1]"
   ]
  },
  {
   "cell_type": "code",
   "execution_count": 11,
   "metadata": {},
   "outputs": [
    {
     "name": "stdout",
     "output_type": "stream",
     "text": [
      "when input is F, the target is i\n",
      "when input is Fi, the target is r\n",
      "when input is Fir, the target is s\n",
      "when input is Firs, the target is t\n",
      "when input is First, the target is  \n",
      "when input is First , the target is C\n",
      "when input is First C, the target is i\n",
      "when input is First Ci, the target is t\n"
     ]
    }
   ],
   "source": [
    "x = train_data[:block_size]\n",
    "y = train_data[1:block_size + 1]\n",
    "for t in range(block_size):\n",
    "    context = x[:t+1]\n",
    "    target = y[t]\n",
    "    print(f\"when input is {decode(list(context.numpy()))}, the target is {decode(list([target.numpy().item()]))}\")"
   ]
  },
  {
   "cell_type": "code",
   "execution_count": 12,
   "metadata": {},
   "outputs": [
    {
     "name": "stdout",
     "output_type": "stream",
     "text": [
      "tensor([[57,  1, 46, 47, 57,  1, 50, 53],\n",
      "        [ 1, 58, 46, 43, 56, 43,  1, 41],\n",
      "        [17, 26, 15, 17, 10,  0, 32, 53],\n",
      "        [57, 58,  6,  1, 61, 47, 58, 46]])\n",
      "tensor([[ 1, 46, 47, 57,  1, 50, 53, 60],\n",
      "        [58, 46, 43, 56, 43,  1, 41, 39],\n",
      "        [26, 15, 17, 10,  0, 32, 53,  1],\n",
      "        [58,  6,  1, 61, 47, 58, 46,  0]])\n"
     ]
    }
   ],
   "source": [
    "torch.manual_seed(42)\n",
    "batch_size = 4 # how many independent sequences will we process in parallel -> batch dimension\n",
    "block_size = 8 # what is the maximum context length for prediction -> time dimension\n",
    "\n",
    "def get_batch(split):\n",
    "    if split == 'train':\n",
    "        data = train_data\n",
    "    else:\n",
    "        data = val_data\n",
    "        \n",
    "    ix = torch.randint(len(data) - block_size, (batch_size, ))\n",
    "    x = torch.stack([data[i:i+block_size] for i in ix])\n",
    "    y = torch.stack([data[i+1:i+block_size+1] for i in ix])\n",
    "    return x, y\n",
    "\n",
    "xb, yb = get_batch('train')\n",
    "print(xb)\n",
    "print(yb)"
   ]
  },
  {
   "cell_type": "code",
   "execution_count": 13,
   "metadata": {
    "scrolled": true
   },
   "outputs": [
    {
     "name": "stdout",
     "output_type": "stream",
     "text": [
      "when input is [57] the target: 1\n",
      "when input is [57, 1] the target: 46\n",
      "when input is [57, 1, 46] the target: 47\n",
      "when input is [57, 1, 46, 47] the target: 57\n",
      "when input is [57, 1, 46, 47, 57] the target: 1\n",
      "when input is [57, 1, 46, 47, 57, 1] the target: 50\n",
      "when input is [57, 1, 46, 47, 57, 1, 50] the target: 53\n",
      "when input is [57, 1, 46, 47, 57, 1, 50, 53] the target: 60\n",
      "when input is [1] the target: 58\n",
      "when input is [1, 58] the target: 46\n",
      "when input is [1, 58, 46] the target: 43\n",
      "when input is [1, 58, 46, 43] the target: 56\n",
      "when input is [1, 58, 46, 43, 56] the target: 43\n",
      "when input is [1, 58, 46, 43, 56, 43] the target: 1\n",
      "when input is [1, 58, 46, 43, 56, 43, 1] the target: 41\n",
      "when input is [1, 58, 46, 43, 56, 43, 1, 41] the target: 39\n",
      "when input is [17] the target: 26\n",
      "when input is [17, 26] the target: 15\n",
      "when input is [17, 26, 15] the target: 17\n",
      "when input is [17, 26, 15, 17] the target: 10\n",
      "when input is [17, 26, 15, 17, 10] the target: 0\n",
      "when input is [17, 26, 15, 17, 10, 0] the target: 32\n",
      "when input is [17, 26, 15, 17, 10, 0, 32] the target: 53\n",
      "when input is [17, 26, 15, 17, 10, 0, 32, 53] the target: 1\n",
      "when input is [57] the target: 58\n",
      "when input is [57, 58] the target: 6\n",
      "when input is [57, 58, 6] the target: 1\n",
      "when input is [57, 58, 6, 1] the target: 61\n",
      "when input is [57, 58, 6, 1, 61] the target: 47\n",
      "when input is [57, 58, 6, 1, 61, 47] the target: 58\n",
      "when input is [57, 58, 6, 1, 61, 47, 58] the target: 46\n",
      "when input is [57, 58, 6, 1, 61, 47, 58, 46] the target: 0\n"
     ]
    }
   ],
   "source": [
    "for b in range(batch_size):\n",
    "    for t in range(block_size):\n",
    "        context = xb[b, :t+1]\n",
    "        target = yb[b, t]\n",
    "        print(f\"when input is {context.tolist()} the target: {target}\")"
   ]
  },
  {
   "cell_type": "code",
   "execution_count": 14,
   "metadata": {},
   "outputs": [
    {
     "name": "stdout",
     "output_type": "stream",
     "text": [
      "tensor([[57,  1, 46, 47, 57,  1, 50, 53],\n",
      "        [ 1, 58, 46, 43, 56, 43,  1, 41],\n",
      "        [17, 26, 15, 17, 10,  0, 32, 53],\n",
      "        [57, 58,  6,  1, 61, 47, 58, 46]])\n"
     ]
    }
   ],
   "source": [
    "print(xb)"
   ]
  },
  {
   "cell_type": "code",
   "execution_count": 15,
   "metadata": {},
   "outputs": [
    {
     "name": "stdout",
     "output_type": "stream",
     "text": [
      "torch.Size([32, 65])\n",
      "tensor(4.8865, grad_fn=<NllLossBackward>)\n",
      "\n",
      "o$,q&IWqW&xtCjaB?ij&bYRGkF?b; f ,CbwhtERCIfuWr,DzJERjhLlVaF&EjffPHDFcNoGIG'&$qXisWTkJPw\n",
      " ,b Xgx?D3sj\n"
     ]
    }
   ],
   "source": [
    "import torch\n",
    "import torch.nn as nn\n",
    "import torch.nn.functional as F\n",
    "torch.manual_seed(42)\n",
    "\n",
    "class BigramLanguageModel(nn.Module):\n",
    "    def __init__(self, vocab_size):\n",
    "        super().__init__()\n",
    "        # each otken directly reads off the logits for the next token from a lookup table\n",
    "        self.token_embedding_table = nn.Embedding(vocab_size, vocab_size)\n",
    "        \n",
    "    def forward(self, idx, targets=None):\n",
    "        # idx and targets are both (B, T) tensor of integers\n",
    "        logits = self.token_embedding_table(idx) # (B, T, C)\n",
    "        \n",
    "        if targets is None:\n",
    "            loss = None\n",
    "        else:\n",
    "            B, T, C = logits.shape\n",
    "            logits = logits.view(B*T, C)\n",
    "            targets = targets.view(B*T)\n",
    "\n",
    "            loss = F.cross_entropy(logits, targets)\n",
    "        return logits, loss\n",
    "    \n",
    "    def generate(self, idx, max_new_tokens):\n",
    "        for _ in range(max_new_tokens):\n",
    "            logits, loss = self.forward(idx)\n",
    "        \n",
    "            logits = logits[:, -1, :]\n",
    "            \n",
    "            probs = F.softmax(logits, dim=-1)\n",
    "            \n",
    "            idx_next = torch.multinomial(probs, num_samples=1)\n",
    "            \n",
    "            idx = torch.cat((idx, idx_next), dim=1)\n",
    "        return idx\n",
    "            \n",
    "            \n",
    "m = BigramLanguageModel(vocab_size)\n",
    "logits, loss = m(xb, yb)\n",
    "\n",
    "print(logits.shape)\n",
    "print(loss)\n",
    "\n",
    "idx = torch.zeros((1, 1,), dtype=torch.long)\n",
    "print(decode(m.generate(idx, max_new_tokens=100)[0].tolist()))"
   ]
  },
  {
   "cell_type": "code",
   "execution_count": 16,
   "metadata": {},
   "outputs": [],
   "source": [
    "optimizer = torch.optim.AdamW(m.parameters(), lr=1e-3)\n"
   ]
  },
  {
   "cell_type": "code",
   "execution_count": 17,
   "metadata": {},
   "outputs": [
    {
     "name": "stdout",
     "output_type": "stream",
     "text": [
      "2.5233194828033447\n"
     ]
    }
   ],
   "source": [
    "batch_size = 32\n",
    "for steps in range(10000):\n",
    "    xb, yb = get_batch('train')\n",
    "    \n",
    "    logits, loss = m(xb, yb)\n",
    "    \n",
    "    optimizer.zero_grad(set_to_none=True)\n",
    "    \n",
    "    loss.backward()\n",
    "    optimizer.step()\n",
    "    \n",
    "    \n",
    "print(loss.item())"
   ]
  },
  {
   "cell_type": "code",
   "execution_count": 18,
   "metadata": {},
   "outputs": [
    {
     "name": "stdout",
     "output_type": "stream",
     "text": [
      "\n",
      "QUDUThe chas.\n",
      "F lisen tabr:\n",
      "LI mus nk,\n",
      "A: al l ayo cenghe's therinvar,\n",
      "TEsen ithawaneit at islinerainy atsomo clour pad d wikn h,\n",
      "HYy my Tholes:\n",
      "it GBy ke m vilou xthazinderand llo chee lond Cld this \n"
     ]
    }
   ],
   "source": [
    "print(decode(m.generate(idx, max_new_tokens=200)[0].tolist()))"
   ]
  },
  {
   "cell_type": "markdown",
   "metadata": {},
   "source": [
    "## Mathematical trick in self-attention\n"
   ]
  },
  {
   "cell_type": "code",
   "execution_count": 19,
   "metadata": {},
   "outputs": [
    {
     "data": {
      "text/plain": [
       "torch.Size([4, 8, 2])"
      ]
     },
     "execution_count": 19,
     "metadata": {},
     "output_type": "execute_result"
    }
   ],
   "source": [
    "torch.manual_seed(42)\n",
    "\n",
    "B, T, C = 4, 8, 2\n",
    "x = torch.randn(B, T, C)\n",
    "x.shape"
   ]
  },
  {
   "cell_type": "markdown",
   "metadata": {},
   "source": [
    "we want $x[b, t] = mean_{i<=t} x[b,i]$"
   ]
  },
  {
   "cell_type": "code",
   "execution_count": 24,
   "metadata": {},
   "outputs": [
    {
     "data": {
      "text/plain": [
       "(tensor([[ 1.9269,  1.4873],\n",
       "         [ 0.9007, -2.1055],\n",
       "         [ 0.6784, -1.2345],\n",
       "         [-0.0431, -1.6047],\n",
       "         [-0.7521,  1.6487],\n",
       "         [-0.3925, -1.4036],\n",
       "         [-0.7279, -0.5594],\n",
       "         [-0.7688,  0.7624]]),\n",
       " tensor([[ 1.9269,  1.4873],\n",
       "         [ 1.4138, -0.3091],\n",
       "         [ 1.1687, -0.6176],\n",
       "         [ 0.8657, -0.8644],\n",
       "         [ 0.5422, -0.3617],\n",
       "         [ 0.3864, -0.5354],\n",
       "         [ 0.2272, -0.5388],\n",
       "         [ 0.1027, -0.3762]]))"
      ]
     },
     "execution_count": 24,
     "metadata": {},
     "output_type": "execute_result"
    }
   ],
   "source": [
    "# version 1: for loop\n",
    "xbow = torch.zeros((B, T, C)) # bag of words\n",
    "for b in range(B):\n",
    "    for t in range(T):\n",
    "        xprev = x[b, :t+1]\n",
    "        xbow[b, t] = torch.mean(xprev, 0)\n",
    "        \n",
    "x[0], xbow[0]"
   ]
  },
  {
   "cell_type": "code",
   "execution_count": 35,
   "metadata": {},
   "outputs": [
    {
     "name": "stdout",
     "output_type": "stream",
     "text": [
      "32 µs ± 3.7 µs per loop (mean ± std. dev. of 7 runs, 10,000 loops each)\n"
     ]
    }
   ],
   "source": [
    "%%timeit\n",
    "# version 2: mat mul\n",
    "weights = torch.tril(torch.ones(T, T))\n",
    "weights = weights / weights.sum(1, keepdim=True)\n",
    "xbow2 = weights @ x # (T, T) @ (B, T, C) ---> (B, T, C)"
   ]
  },
  {
   "cell_type": "code",
   "execution_count": 38,
   "metadata": {},
   "outputs": [
    {
     "name": "stdout",
     "output_type": "stream",
     "text": [
      "46.6 µs ± 1.79 µs per loop (mean ± std. dev. of 7 runs, 10,000 loops each)\n"
     ]
    }
   ],
   "source": [
    "%%timeit\n",
    "# version 3: use softmax\n",
    "tril = torch.tril(torch.ones(T, T))\n",
    "weights = torch.zeros((T, T))\n",
    "weights = weights.masked_fill(tril==0, float('-inf'))\n",
    "weights = F.softmax(weights, dim=-1)\n",
    "xbow3 = weights @ x"
   ]
  },
  {
   "cell_type": "code",
   "execution_count": 45,
   "metadata": {},
   "outputs": [
    {
     "data": {
      "text/plain": [
       "(tensor([[1.0000, 0.0000, 0.0000, 0.0000, 0.0000, 0.0000, 0.0000, 0.0000],\n",
       "         [0.4106, 0.5894, 0.0000, 0.0000, 0.0000, 0.0000, 0.0000, 0.0000],\n",
       "         [0.3657, 0.2283, 0.4061, 0.0000, 0.0000, 0.0000, 0.0000, 0.0000],\n",
       "         [0.2168, 0.2759, 0.2204, 0.2870, 0.0000, 0.0000, 0.0000, 0.0000],\n",
       "         [0.2553, 0.1697, 0.1548, 0.2341, 0.1861, 0.0000, 0.0000, 0.0000],\n",
       "         [0.1318, 0.2060, 0.1405, 0.1917, 0.1949, 0.1351, 0.0000, 0.0000],\n",
       "         [0.2137, 0.0978, 0.2374, 0.1025, 0.1418, 0.0838, 0.1230, 0.0000],\n",
       "         [0.0852, 0.1047, 0.0824, 0.1376, 0.1015, 0.1900, 0.1780, 0.1206]],\n",
       "        grad_fn=<SelectBackward>),\n",
       " tensor([[ 0.7630, -0.2412, -0.4150,  0.3833,  0.5740, -1.6738,  0.7954,  0.6872,\n",
       "          -0.3848,  0.5073, -0.5312, -0.1221,  0.0445,  1.2169,  0.9940,  1.5281],\n",
       "         [ 0.5029, -0.1326, -0.6701, -0.2706,  0.2883, -0.7521,  0.2712, -0.3253,\n",
       "          -0.1462,  0.3669,  0.0978,  0.0339,  0.1174,  0.7104,  0.5455,  0.3296],\n",
       "         [ 0.2792, -0.0053, -0.2788,  0.1781,  0.5447, -0.8147,  0.2170, -0.0879,\n",
       "          -0.3244,  0.3336, -0.0527, -0.1629, -0.3075,  0.6004,  0.8232,  0.7714],\n",
       "         [ 0.1091,  0.1738, -0.1813,  0.0733,  0.1508, -0.5350, -0.0342, -0.4653,\n",
       "          -0.2380,  0.2629,  0.0616,  0.0859,  0.1118,  0.4928,  0.3941,  0.2887],\n",
       "         [ 0.0856,  0.1398, -0.2700,  0.3139,  0.2166, -0.6056, -0.1745, -0.1964,\n",
       "          -0.0705,  0.1496, -0.1684,  0.0233, -0.0020,  0.4565,  0.3899,  0.3187],\n",
       "         [-0.0245,  0.1205, -0.2386,  0.1573,  0.1559, -0.4554, -0.2279, -0.2720,\n",
       "          -0.0710,  0.1044,  0.0292,  0.0645,  0.0342,  0.3362,  0.2706,  0.1037],\n",
       "         [ 0.1177,  0.0679, -0.2059,  0.1818,  0.2322, -0.6637, -0.0619, -0.1512,\n",
       "          -0.1481,  0.0911, -0.1629, -0.1771, -0.1474,  0.4219,  0.3994,  0.4618],\n",
       "         [ 0.0279,  0.0088, -0.1321, -0.1438, -0.0649, -0.4460, -0.0400, -0.2174,\n",
       "          -0.1499,  0.0046,  0.0129, -0.0880,  0.1063,  0.3208,  0.1388,  0.2423]],\n",
       "        grad_fn=<SelectBackward>))"
      ]
     },
     "execution_count": 45,
     "metadata": {},
     "output_type": "execute_result"
    }
   ],
   "source": [
    "# version 4: self attention\n",
    "torch.manual_seed(42)\n",
    "B, T, C = 4, 8, 32\n",
    "x = torch.randn(B, T, C)\n",
    "\n",
    "# single head perform self-attention\n",
    "head_size = 16\n",
    "key = nn.Linear(C, head_size, bias=False)\n",
    "query = nn.Linear(C, head_size, bias=False)\n",
    "value = nn.Linear(C, head_size, bias=False)\n",
    "\n",
    "k = key(x) # (B, T, head_size)\n",
    "q = query(x) # (B, T, head_size)\n",
    "\n",
    "weights = q @ k.transpose(-2, -1) # (B, T, 16) @ (B, 16  T) -> (B, T, T)\n",
    "weights = weights * (head_size ** -0.5)\n",
    "                    \n",
    "tril = torch.tril(torch.ones(T, T))\n",
    "weights = weights.masked_fill(tril==0, float('-inf'))\n",
    "weights = F.softmax(weights, dim=-1)\n",
    "\n",
    "v = value(x)\n",
    "\n",
    "out = weights @ v\n",
    "\n",
    "weights[0], out[0]"
   ]
  },
  {
   "cell_type": "code",
   "execution_count": 44,
   "metadata": {},
   "outputs": [
    {
     "data": {
      "text/plain": [
       "tensor([[[ 7.6297e-01, -2.4118e-01, -4.1502e-01,  3.8330e-01,  5.7404e-01,\n",
       "          -1.6738e+00,  7.9543e-01,  6.8723e-01, -3.8477e-01,  5.0733e-01,\n",
       "          -5.3124e-01, -1.2214e-01,  4.4479e-02,  1.2169e+00,  9.9396e-01,\n",
       "           1.5281e+00],\n",
       "         [ 5.0290e-01, -1.3257e-01, -6.7006e-01, -2.7060e-01,  2.8833e-01,\n",
       "          -7.5205e-01,  2.7124e-01, -3.2529e-01, -1.4619e-01,  3.6692e-01,\n",
       "           9.7772e-02,  3.3935e-02,  1.1736e-01,  7.1044e-01,  5.4552e-01,\n",
       "           3.2963e-01],\n",
       "         [ 2.7921e-01, -5.2619e-03, -2.7881e-01,  1.7815e-01,  5.4466e-01,\n",
       "          -8.1475e-01,  2.1705e-01, -8.7892e-02, -3.2445e-01,  3.3359e-01,\n",
       "          -5.2651e-02, -1.6295e-01, -3.0752e-01,  6.0044e-01,  8.2317e-01,\n",
       "           7.7139e-01],\n",
       "         [ 1.0908e-01,  1.7385e-01, -1.8134e-01,  7.3269e-02,  1.5080e-01,\n",
       "          -5.3500e-01, -3.4226e-02, -4.6532e-01, -2.3805e-01,  2.6292e-01,\n",
       "           6.1617e-02,  8.5927e-02,  1.1182e-01,  4.9281e-01,  3.9407e-01,\n",
       "           2.8867e-01],\n",
       "         [ 8.5553e-02,  1.3979e-01, -2.7001e-01,  3.1395e-01,  2.1662e-01,\n",
       "          -6.0556e-01, -1.7446e-01, -1.9640e-01, -7.0539e-02,  1.4965e-01,\n",
       "          -1.6843e-01,  2.3266e-02, -2.0024e-03,  4.5653e-01,  3.8992e-01,\n",
       "           3.1874e-01],\n",
       "         [-2.4508e-02,  1.2049e-01, -2.3860e-01,  1.5730e-01,  1.5594e-01,\n",
       "          -4.5541e-01, -2.2787e-01, -2.7197e-01, -7.0992e-02,  1.0441e-01,\n",
       "           2.9239e-02,  6.4475e-02,  3.4157e-02,  3.3616e-01,  2.7057e-01,\n",
       "           1.0369e-01],\n",
       "         [ 1.1768e-01,  6.7922e-02, -2.0593e-01,  1.8184e-01,  2.3221e-01,\n",
       "          -6.6372e-01, -6.1867e-02, -1.5121e-01, -1.4806e-01,  9.1108e-02,\n",
       "          -1.6291e-01, -1.7706e-01, -1.4737e-01,  4.2192e-01,  3.9939e-01,\n",
       "           4.6185e-01],\n",
       "         [ 2.7879e-02,  8.7633e-03, -1.3206e-01, -1.4376e-01, -6.4904e-02,\n",
       "          -4.4604e-01, -4.0022e-02, -2.1745e-01, -1.4994e-01,  4.6310e-03,\n",
       "           1.2900e-02, -8.7983e-02,  1.0633e-01,  3.2080e-01,  1.3885e-01,\n",
       "           2.4234e-01]],\n",
       "\n",
       "        [[-1.0970e+00,  4.6927e-01, -1.4577e+00,  1.5908e-01, -5.8003e-01,\n",
       "           4.2184e-01, -2.9130e-01, -4.3844e-01, -6.4602e-01, -3.3779e-01,\n",
       "          -5.0662e-01,  1.4041e+00,  3.3257e-01, -3.6793e-01,  8.6312e-02,\n",
       "           9.5632e-01],\n",
       "         [-5.4616e-01,  2.7621e-01, -3.3326e-01,  3.7829e-01, -2.5699e-01,\n",
       "           2.3262e-01, -1.1032e-01, -2.8077e-01,  7.7749e-02, -8.5303e-02,\n",
       "          -3.3827e-01,  6.8605e-02,  1.8971e-02, -4.7669e-01, -1.6955e-01,\n",
       "           5.8153e-01],\n",
       "         [-1.2126e-01,  3.3800e-01, -5.0004e-01,  2.5904e-01, -3.8638e-01,\n",
       "           9.1483e-02, -3.0223e-02, -1.0855e-01, -5.7441e-02, -1.1894e-01,\n",
       "          -1.4335e-01,  2.9989e-01, -3.2780e-02,  3.0867e-01,  1.1871e-02,\n",
       "           3.0580e-01],\n",
       "         [-5.1634e-01,  2.2868e-01, -8.8868e-01,  6.7225e-02, -3.6403e-01,\n",
       "           1.5460e-01, -8.5973e-02, -2.2914e-01, -1.5536e-01, -1.1978e-01,\n",
       "          -1.7952e-01,  6.3232e-01,  6.2284e-02, -9.5617e-02,  1.1191e-01,\n",
       "           5.3335e-01],\n",
       "         [-1.1798e-02,  2.3232e-02,  1.7480e-01,  3.0720e-01,  1.9014e-02,\n",
       "           6.2518e-02,  1.3422e-01, -1.0818e-01,  3.3614e-01,  1.9208e-01,\n",
       "          -7.7220e-02, -6.1980e-01, -2.6181e-01, -1.0675e-01,  1.1373e-01,\n",
       "           1.1470e-01],\n",
       "         [-8.7502e-02, -1.3159e-01,  2.8555e-02,  2.0809e-01,  1.0872e-01,\n",
       "           1.6521e-01,  1.7973e-01,  4.4784e-02,  3.4225e-01,  2.9820e-01,\n",
       "          -2.5467e-02, -3.2861e-01, -1.8052e-01, -9.0834e-02,  2.7034e-01,\n",
       "           1.1824e-01],\n",
       "         [-1.4585e-01,  7.6710e-02, -4.0328e-01,  3.9325e-02, -1.3270e-01,\n",
       "           3.0188e-01,  2.0951e-01, -2.1255e-01, -7.8021e-03,  2.6143e-01,\n",
       "           9.4048e-03,  1.9213e-01,  1.3656e-01, -1.8890e-01,  2.8499e-01,\n",
       "           2.9435e-01],\n",
       "         [ 1.5898e-01, -5.2510e-02,  3.6614e-03,  2.1756e-02,  8.4682e-02,\n",
       "           2.0449e-01,  2.8720e-01, -1.1209e-03,  3.2368e-01,  3.9371e-01,\n",
       "           1.9531e-01, -3.9812e-01, -8.3385e-02, -1.2973e-01,  1.8260e-01,\n",
       "           1.4918e-01]],\n",
       "\n",
       "        [[ 3.1063e-01,  9.3706e-01, -2.0925e-01,  7.7045e-01,  1.9348e-02,\n",
       "           5.7261e-01,  2.4843e-01, -9.7810e-01,  6.5967e-01,  5.0115e-01,\n",
       "           7.5831e-01, -2.6434e-02,  7.9072e-01,  1.9970e-01, -4.5862e-01,\n",
       "          -6.5785e-01],\n",
       "         [ 1.2797e-01,  5.7902e-01,  3.5738e-01, -1.6253e-01,  2.8129e-02,\n",
       "          -1.1750e-02, -2.4394e-01, -1.0789e+00, -1.5637e-01,  4.8853e-01,\n",
       "           1.8655e-01, -4.0821e-02,  4.7443e-01, -1.0335e+00, -7.4191e-01,\n",
       "          -7.9703e-01],\n",
       "         [-1.3669e-01,  3.3498e-01,  3.9743e-01, -2.9299e-01, -8.0347e-02,\n",
       "           1.2372e-01, -2.3281e-02, -7.0612e-01,  7.2288e-02,  2.5847e-01,\n",
       "           3.1838e-01, -2.2394e-01,  1.1228e-01, -7.7407e-01, -3.1509e-01,\n",
       "          -4.1963e-01],\n",
       "         [-6.1353e-02,  2.9822e-01,  2.3477e-01, -3.0329e-01, -1.7762e-01,\n",
       "          -3.8548e-02, -6.3911e-02, -7.0402e-01, -8.6876e-02,  1.8807e-01,\n",
       "           3.0947e-01, -1.4344e-01,  2.7306e-01, -6.6688e-01, -2.2835e-01,\n",
       "          -1.8059e-01],\n",
       "         [ 9.3767e-02,  4.1294e-01,  1.0194e-02, -1.4860e-01, -6.3669e-02,\n",
       "          -4.3468e-02,  3.5786e-02, -6.3141e-01, -1.7502e-01,  1.4814e-01,\n",
       "           5.2825e-01, -5.9473e-02,  1.1362e-01, -3.4923e-01, -3.3964e-02,\n",
       "          -2.1527e-01],\n",
       "         [-1.1845e-01, -2.4454e-01, -1.7955e-01,  2.8035e-03, -1.4161e-01,\n",
       "           3.9987e-01, -1.4053e-02,  6.3506e-04,  5.6582e-01,  3.2076e-01,\n",
       "           1.2575e-01, -1.7399e-02,  1.5720e-01, -3.2944e-01,  2.4003e-01,\n",
       "           7.8807e-02],\n",
       "         [ 3.5090e-02,  1.2899e-01, -5.9348e-02, -2.6923e-02, -9.4979e-02,\n",
       "           2.0541e-01, -1.3191e-01, -2.1171e-01,  2.5858e-02,  8.2696e-02,\n",
       "           3.5724e-01, -9.5164e-03,  1.2283e-01, -1.3771e-01,  1.1267e-01,\n",
       "          -3.2198e-01],\n",
       "         [ 6.6997e-02,  1.8186e-01, -6.6648e-03, -6.4894e-02,  4.2777e-02,\n",
       "           2.0768e-02, -1.9452e-01, -2.4043e-01, -2.7419e-01,  7.3504e-03,\n",
       "           2.9668e-01,  8.8111e-02, -5.5737e-02, -2.3841e-02,  1.2148e-01,\n",
       "          -3.0205e-01]],\n",
       "\n",
       "        [[ 7.7074e-02, -1.5568e-01, -9.2207e-01, -3.8491e-01,  4.3124e-01,\n",
       "           7.5718e-01,  2.7922e-01,  5.6814e-01,  1.3448e+00,  3.2643e-01,\n",
       "           1.4705e-01,  4.3255e-01, -1.2313e+00,  6.3330e-01, -2.5603e-01,\n",
       "          -1.0371e+00],\n",
       "         [-2.6759e-01, -1.4483e-01, -1.2842e+00,  7.8463e-02,  6.1916e-01,\n",
       "           2.0747e-01,  4.4073e-01,  4.9015e-01,  1.0460e+00,  1.1045e-01,\n",
       "           1.1074e-01,  1.6983e-01, -7.2942e-01,  7.2409e-01,  4.3009e-01,\n",
       "          -1.0682e-01],\n",
       "         [-7.6412e-02, -1.1161e-01, -5.6284e-01, -1.8497e-02,  6.4672e-01,\n",
       "           2.3018e-01,  3.4077e-01,  1.1231e-01,  4.7879e-01,  3.5031e-01,\n",
       "           3.0489e-01, -4.2166e-01, -4.5608e-01,  2.8225e-01,  6.1775e-01,\n",
       "           1.1140e-01],\n",
       "         [-4.1988e-01, -6.9976e-02, -7.9360e-01, -2.1336e-01,  5.2239e-01,\n",
       "           2.5398e-01,  4.4761e-01,  1.4314e-01,  2.8700e-01,  1.5459e-01,\n",
       "          -4.8744e-03,  1.8796e-01, -6.8359e-01,  3.9942e-01,  3.7630e-01,\n",
       "          -8.0556e-02],\n",
       "         [-3.7469e-01, -2.8603e-02, -5.9180e-01, -8.1788e-02,  2.1459e-01,\n",
       "           3.2337e-01,  2.1527e-01,  2.3610e-01,  4.6620e-01, -6.4287e-02,\n",
       "           8.7137e-02, -4.3808e-02, -5.4559e-01,  3.6360e-01,  1.4436e-01,\n",
       "          -1.8287e-02],\n",
       "         [-3.8569e-01, -1.8829e-02, -5.2706e-01, -1.8674e-01,  2.0351e-01,\n",
       "           3.9948e-01,  3.1909e-01,  1.6924e-01,  2.5439e-01,  3.3384e-02,\n",
       "          -4.2789e-03, -3.2320e-02, -4.9311e-01,  1.9397e-01,  2.4003e-01,\n",
       "           7.2542e-03],\n",
       "         [-2.4023e-01, -1.5182e-02, -6.6779e-01, -1.2108e-01,  1.9866e-01,\n",
       "           3.9284e-01,  3.1500e-01,  2.7829e-01,  4.9245e-01, -1.1223e-02,\n",
       "           6.3391e-02,  5.6457e-02, -5.6590e-01,  2.9826e-01,  1.2658e-01,\n",
       "          -9.1893e-02],\n",
       "         [-2.0672e-01,  2.1623e-02, -4.0959e-01,  4.3091e-02,  1.7690e-01,\n",
       "           2.2423e-01,  2.6180e-01,  1.6483e-01,  2.9176e-01, -9.3323e-03,\n",
       "           1.1952e-01, -2.1817e-01, -3.1307e-01,  2.5809e-01,  2.1642e-01,\n",
       "           2.2431e-01]]], grad_fn=<UnsafeViewBackward>)"
      ]
     },
     "execution_count": 44,
     "metadata": {},
     "output_type": "execute_result"
    }
   ],
   "source": [
    "out"
   ]
  }
 ],
 "metadata": {
  "kernelspec": {
   "display_name": "Python 3",
   "language": "python",
   "name": "python3"
  },
  "language_info": {
   "codemirror_mode": {
    "name": "ipython",
    "version": 3
   },
   "file_extension": ".py",
   "mimetype": "text/x-python",
   "name": "python",
   "nbconvert_exporter": "python",
   "pygments_lexer": "ipython3",
   "version": "3.8.11"
  }
 },
 "nbformat": 4,
 "nbformat_minor": 2
}
